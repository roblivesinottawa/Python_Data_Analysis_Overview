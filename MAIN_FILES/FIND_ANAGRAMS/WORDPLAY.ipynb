{
 "cells": [
  {
   "cell_type": "code",
   "execution_count": null,
   "source": [
    "import math \n",
    "import collections\n",
    "import itertools\n",
    "\n",
    "import numpy as np\n",
    "import pandas as pd\n",
    "import matplotlib.pyplot as plt\n",
    "\n",
    "%matplotlib inline"
   ],
   "outputs": [],
   "metadata": {}
  },
  {
   "cell_type": "code",
   "execution_count": null,
   "source": [
    "words = sorted({line.strip().lower() for line in open(\"words.txt\", \"r\")})"
   ],
   "outputs": [],
   "metadata": {}
  },
  {
   "cell_type": "code",
   "execution_count": null,
   "source": [
    "def siganture(word):\n",
    "    \"\"\"\n",
    "    Finds the signature for a word.\n",
    "    \"\"\"\n",
    "    return \"\".join(sorted(word))\n",
    "\n",
    "words_by_signature = collections.defaultdict(set)\n",
    "\n",
    "for word in words:\n",
    "    words_by_signature[siganture(word)].add(word)\n",
    "\n",
    "anagrams_by_sig = {sig: wordset for sig, wordset in words_by_signature.items() if len(wordset) > 1}"
   ],
   "outputs": [],
   "metadata": {}
  },
  {
   "cell_type": "code",
   "execution_count": null,
   "source": [
    "'robson'[::-1]"
   ],
   "outputs": [],
   "metadata": {}
  },
  {
   "cell_type": "code",
   "execution_count": null,
   "source": [
    "pairs = []\n",
    "\n",
    "for wordset in anagrams_by_sig.values():\n",
    "    for word1, word2 in itertools.combinations(wordset, 2):\n",
    "        if word1[::-1] == word2[::-1]:\n",
    "            pairs.append((word1, word2))"
   ],
   "outputs": [],
   "metadata": {}
  },
  {
   "cell_type": "code",
   "execution_count": null,
   "source": [
    "pairs"
   ],
   "outputs": [],
   "metadata": {}
  },
  {
   "cell_type": "code",
   "execution_count": null,
   "source": [
    "list(itertools.combinations(pairs, 2))"
   ],
   "outputs": [],
   "metadata": {}
  },
  {
   "cell_type": "code",
   "execution_count": null,
   "source": [],
   "outputs": [],
   "metadata": {}
  }
 ],
 "metadata": {
  "orig_nbformat": 4,
  "language_info": {
   "name": "python",
   "version": "3.8.8"
  },
  "kernelspec": {
   "name": "python3",
   "display_name": "Python 3.8.8 64-bit ('base': conda)"
  },
  "interpreter": {
   "hash": "3b7552e2d2deb2b91d47afa6e37381259d1e665a4141ca84904c539f02ce184f"
  }
 },
 "nbformat": 4,
 "nbformat_minor": 2
}